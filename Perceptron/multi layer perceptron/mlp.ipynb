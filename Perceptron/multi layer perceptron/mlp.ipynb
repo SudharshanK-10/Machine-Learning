{
 "cells": [
  {
   "cell_type": "code",
   "execution_count": 55,
   "metadata": {},
   "outputs": [],
   "source": [
    "import numpy as np\n",
    "import random\n",
    "\n",
    "#training input and ouput \n",
    "input = np.array([[0,0],[0,1],[1,0],[1,1]])\n",
    "output = np.array([[0,1,1,0]]).T    #XOR operation"
   ]
  },
  {
   "cell_type": "code",
   "execution_count": 56,
   "metadata": {},
   "outputs": [],
   "source": [
    "weights1 = np.random.random((2,4))\n",
    "weights2 = np.random.random((4,1))"
   ]
  },
  {
   "cell_type": "code",
   "execution_count": 57,
   "metadata": {},
   "outputs": [],
   "source": [
    "#activation function\n",
    "def sigmoid(x):\n",
    "    return 1 / (1 + np.exp(-x))\n",
    "\n",
    "def der(x):\n",
    "    return x * (1 - x)"
   ]
  },
  {
   "cell_type": "code",
   "execution_count": 58,
   "metadata": {},
   "outputs": [
    {
     "name": "stdout",
     "output_type": "stream",
     "text": [
      "[[-3.97859087  5.69080335  4.87090443  4.57726685]\n",
      " [ 6.84074093  5.55134373 -2.99243319 -2.8762115 ]]\n",
      "[[-11.15394976]\n",
      " [ 15.83711672]\n",
      " [ -6.08736048]\n",
      " [ -5.66538798]]\n"
     ]
    }
   ],
   "source": [
    "#updating weights\n",
    "final = []\n",
    "for epochs in range(10000):\n",
    "    weighted_sum1 = np.dot(input,weights1)\n",
    "    curr_output1 = sigmoid(weighted_sum1)\n",
    "\n",
    "    weighted_sum2 = np.dot(curr_output1,weights2)\n",
    "    curr_output2 = sigmoid(weighted_sum2)\n",
    "\n",
    "    error2 = output - curr_output2\n",
    "    adjust2 = error2 * der(curr_output2)\n",
    "\n",
    "    error1 = np.dot(adjust2,weights2.T)\n",
    "    adjust1 = error1 * der(curr_output1)\n",
    "\n",
    "    weights1 += np.dot(input.T,adjust1)\n",
    "    weights2 += np.dot(curr_output1.T,adjust2)\n",
    "    \n",
    "    final = curr_output2\n",
    "\n",
    "print(weights1)\n",
    "print(weights2)"
   ]
  },
  {
   "cell_type": "code",
   "execution_count": 62,
   "metadata": {},
   "outputs": [
    {
     "name": "stdout",
     "output_type": "stream",
     "text": [
      "[[0.9827212]]\n"
     ]
    }
   ],
   "source": [
    "#predict\n",
    "pred = np.array([[0,1]])\n",
    "temp = sigmoid(np.dot(pred,weights1))\n",
    "ans = sigmoid(np.dot(temp,weights2))\n",
    "print(ans)"
   ]
  }
 ],
 "metadata": {
  "interpreter": {
   "hash": "92cc812225b590fcf14c7713270229b83a132cac44fb5700e14abe4bb18f6b0e"
  },
  "kernelspec": {
   "display_name": "Python 3.10.0 64-bit",
   "language": "python",
   "name": "python3"
  },
  "language_info": {
   "codemirror_mode": {
    "name": "ipython",
    "version": 3
   },
   "file_extension": ".py",
   "mimetype": "text/x-python",
   "name": "python",
   "nbconvert_exporter": "python",
   "pygments_lexer": "ipython3",
   "version": "3.10.0"
  },
  "orig_nbformat": 4
 },
 "nbformat": 4,
 "nbformat_minor": 2
}
