{
 "cells": [
  {
   "cell_type": "code",
   "execution_count": 64,
   "metadata": {},
   "outputs": [],
   "source": [
    "import numpy as np\n",
    "import random\n",
    "\n",
    "#training input and ouput \n",
    "input = np.array([[0,0],[0,1],[1,0],[1,1]])\n",
    "output = np.array([[0,1,1,0]]).T    #XOR operation"
   ]
  },
  {
   "cell_type": "code",
   "execution_count": 65,
   "metadata": {},
   "outputs": [],
   "source": [
    "input_layer = 2\n",
    "hidden_layer = 2\n",
    "output_layer = 1"
   ]
  },
  {
   "cell_type": "code",
   "execution_count": 66,
   "metadata": {},
   "outputs": [],
   "source": [
    "weights1 = 2 * np.random.random((input_layer,hidden_layer)) - 1\n",
    "bias1 = 2 * np.random.random((1,hidden_layer)) - 1\n",
    "\n",
    "weights2 = 2 * np.random.random((hidden_layer,output_layer)) - 1\n",
    "bias2 = 2 * np.random.random((1,output_layer)) - 1"
   ]
  },
  {
   "cell_type": "code",
   "execution_count": 67,
   "metadata": {},
   "outputs": [],
   "source": [
    "#activation function\n",
    "def sigmoid(x):\n",
    "    return 1 / (1 + np.exp(-x))\n",
    "\n",
    "def der(x):\n",
    "    return x * (1-x)"
   ]
  },
  {
   "cell_type": "code",
   "execution_count": 68,
   "metadata": {},
   "outputs": [
    {
     "name": "stdout",
     "output_type": "stream",
     "text": [
      "[[-5.19390155 -6.33869353]\n",
      " [-5.19446743 -6.3408699 ]]\n",
      "[[ 10.47300949]\n",
      " [-10.75457241]]\n"
     ]
    }
   ],
   "source": [
    "predicted = []\n",
    "\n",
    "for epochs in range(10000):\n",
    "    #forward propagation\n",
    "    weighted_sum1 = np.dot(input,weights1) + bias1\n",
    "    curr_output1 = sigmoid(weighted_sum1)\n",
    "\n",
    "    weighted_sum2 = np.dot(curr_output1,weights2) + bias2\n",
    "    curr_output2 = sigmoid(weighted_sum2)\n",
    "\n",
    "    error2 = output - curr_output2\n",
    "    slope2 = der(curr_output2)\n",
    "    delta2 = error2 * slope2\n",
    "\n",
    "    error1 = np.dot(delta2,weights2.T)\n",
    "    slope1 = der(curr_output1)\n",
    "    delta1 = error1 * slope1\n",
    "\n",
    "    weights2 += np.dot(curr_output1.T,delta2)\n",
    "    weights1 += np.dot(input.T,delta1)\n",
    "\n",
    "    bias2 += np.array([np.sum(delta2,axis=0)])\n",
    "    bias1 += np.array([np.sum(delta1,axis=0)])\n",
    "\n",
    "    predicted = curr_output2\n",
    "\n",
    "print(weights1)\n",
    "print(weights2)"
   ]
  },
  {
   "cell_type": "code",
   "execution_count": 69,
   "metadata": {},
   "outputs": [
    {
     "name": "stdout",
     "output_type": "stream",
     "text": [
      "[[0.01068734]\n",
      " [0.98887732]\n",
      " [0.98887578]\n",
      " [0.01365075]]\n"
     ]
    }
   ],
   "source": [
    "#predict\n",
    "print(predicted)"
   ]
  },
  {
   "cell_type": "code",
   "execution_count": 70,
   "metadata": {},
   "outputs": [
    {
     "name": "stdout",
     "output_type": "stream",
     "text": [
      "99.98629938890306\n"
     ]
    }
   ],
   "source": [
    "#accuracy\n",
    "temp = (predicted - output) ** 2\n",
    "acc = 0\n",
    "for i in range(4):\n",
    "    acc += temp[i][0]\n",
    "\n",
    "print((1 - acc/4) * 100)"
   ]
  }
 ],
 "metadata": {
  "interpreter": {
   "hash": "92cc812225b590fcf14c7713270229b83a132cac44fb5700e14abe4bb18f6b0e"
  },
  "kernelspec": {
   "display_name": "Python 3.10.0 64-bit",
   "language": "python",
   "name": "python3"
  },
  "language_info": {
   "codemirror_mode": {
    "name": "ipython",
    "version": 3
   },
   "file_extension": ".py",
   "mimetype": "text/x-python",
   "name": "python",
   "nbconvert_exporter": "python",
   "pygments_lexer": "ipython3",
   "version": "3.10.0"
  },
  "orig_nbformat": 4
 },
 "nbformat": 4,
 "nbformat_minor": 2
}
