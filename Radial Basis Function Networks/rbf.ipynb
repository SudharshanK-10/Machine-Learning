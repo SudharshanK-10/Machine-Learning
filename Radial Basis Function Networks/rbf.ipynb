{
 "cells": [
  {
   "cell_type": "code",
   "execution_count": 27,
   "metadata": {},
   "outputs": [],
   "source": [
    "import numpy as np"
   ]
  },
  {
   "cell_type": "code",
   "execution_count": 28,
   "metadata": {},
   "outputs": [],
   "source": [
    "def rbf(x , c, s):\n",
    "    #x - datapoint, c - cluster center, s - standard deviation\n",
    "    return np.exp(-1 / 2 * ((x - c) / s) ** 2)"
   ]
  },
  {
   "cell_type": "code",
   "execution_count": 59,
   "metadata": {},
   "outputs": [],
   "source": [
    "def kmeans(X, k):\n",
    "    #X - datpoints, k - no of clusters\n",
    "    \n",
    "    points = X\n",
    "    centers = []\n",
    "    for i in range(k):\n",
    "        centers.append(points[i])\n",
    "    \n",
    "    previous_centers = centers\n",
    "    points_belong_to = [-1 for i in range(len(points))]\n",
    "    converged = False\n",
    "\n",
    "    iterations = 0\n",
    "\n",
    "    while converged != True:\n",
    "        for i,point in enumerate(points):\n",
    "            cluster = -1\n",
    "            min_distance = 1e9\n",
    "\n",
    "            for curr_cluster,center in enumerate(centers):\n",
    "                curr_distance = np.sqrt((point[0] - center[0])**2 + (point[1] - center[1])**2)\n",
    "                if curr_distance < min_distance:\n",
    "                    min_distance = curr_distance\n",
    "                    cluster = curr_cluster\n",
    "\n",
    "            points_belong_to[i] = cluster\n",
    "        \n",
    "        for i in range(k):\n",
    "            cx,cy = 0,0\n",
    "            count = 0\n",
    "\n",
    "            for j in range(len(points)):\n",
    "                if points_belong_to[j] == i:\n",
    "                    cx += points[j][0]\n",
    "                    cy += points[j][1]\n",
    "                    count += 1\n",
    "            \n",
    "            centers[i][0] = cx/count\n",
    "            centers[i][1] = cy/count\n",
    "        \n",
    "        if previous_centers == centers:\n",
    "            converged = True\n",
    "\n",
    "        previous_centers = centers\n",
    "        #print(iterations)\n",
    "        iterations += 1\n",
    "\n",
    "    #find standard deviation\n",
    "    std = [0 for i in range(k)]\n",
    "\n",
    "    for i in range(k):\n",
    "        count = 0\n",
    "        curr_std = 0\n",
    "\n",
    "        for j in range(len(points)):\n",
    "            if points_belong_to[j] == i:\n",
    "                curr_std += ((points[j][0] - centers[i][0])**2 + (points[j][1] - centers[i][1])**2)\n",
    "                count += 1\n",
    "\n",
    "        curr_std /= count\n",
    "        std[i] = np.sqrt(curr_std)\n",
    "\n",
    "    return centers,std"
   ]
  },
  {
   "cell_type": "code",
   "execution_count": 60,
   "metadata": {},
   "outputs": [
    {
     "name": "stdout",
     "output_type": "stream",
     "text": [
      "[[0.5, 0.0], [0.5, 1.0]]\n",
      "[0.3535533905932738, 0.3535533905932738]\n"
     ]
    }
   ],
   "source": [
    "input = [[0,0],[0,1],[1,0],[1,1]]\n",
    "clusters,stds = kmeans(input,2)\n",
    "\n",
    "print(clusters)\n",
    "print(stds)"
   ]
  }
 ],
 "metadata": {
  "interpreter": {
   "hash": "92cc812225b590fcf14c7713270229b83a132cac44fb5700e14abe4bb18f6b0e"
  },
  "kernelspec": {
   "display_name": "Python 3.10.0 64-bit",
   "language": "python",
   "name": "python3"
  },
  "language_info": {
   "codemirror_mode": {
    "name": "ipython",
    "version": 3
   },
   "file_extension": ".py",
   "mimetype": "text/x-python",
   "name": "python",
   "nbconvert_exporter": "python",
   "pygments_lexer": "ipython3",
   "version": "3.10.0"
  },
  "orig_nbformat": 4
 },
 "nbformat": 4,
 "nbformat_minor": 2
}
