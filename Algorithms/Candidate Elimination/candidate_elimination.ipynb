{
 "cells": [
  {
   "cell_type": "code",
   "execution_count": 86,
   "metadata": {},
   "outputs": [
    {
     "data": {
      "text/html": [
       "<div>\n",
       "<style scoped>\n",
       "    .dataframe tbody tr th:only-of-type {\n",
       "        vertical-align: middle;\n",
       "    }\n",
       "\n",
       "    .dataframe tbody tr th {\n",
       "        vertical-align: top;\n",
       "    }\n",
       "\n",
       "    .dataframe thead th {\n",
       "        text-align: right;\n",
       "    }\n",
       "</style>\n",
       "<table border=\"1\" class=\"dataframe\">\n",
       "  <thead>\n",
       "    <tr style=\"text-align: right;\">\n",
       "      <th></th>\n",
       "      <th>origin</th>\n",
       "      <th>manufacturer</th>\n",
       "      <th>color</th>\n",
       "      <th>decade</th>\n",
       "      <th>type</th>\n",
       "      <th>sold</th>\n",
       "    </tr>\n",
       "  </thead>\n",
       "  <tbody>\n",
       "    <tr>\n",
       "      <th>0</th>\n",
       "      <td>japan</td>\n",
       "      <td>honda</td>\n",
       "      <td>blue</td>\n",
       "      <td>1980</td>\n",
       "      <td>economy</td>\n",
       "      <td>yes</td>\n",
       "    </tr>\n",
       "    <tr>\n",
       "      <th>1</th>\n",
       "      <td>japan</td>\n",
       "      <td>toyota</td>\n",
       "      <td>green</td>\n",
       "      <td>1970</td>\n",
       "      <td>sports</td>\n",
       "      <td>no</td>\n",
       "    </tr>\n",
       "    <tr>\n",
       "      <th>2</th>\n",
       "      <td>japan</td>\n",
       "      <td>toyota</td>\n",
       "      <td>blue</td>\n",
       "      <td>1990</td>\n",
       "      <td>economy</td>\n",
       "      <td>yes</td>\n",
       "    </tr>\n",
       "    <tr>\n",
       "      <th>3</th>\n",
       "      <td>usa</td>\n",
       "      <td>chrysler</td>\n",
       "      <td>red</td>\n",
       "      <td>1980</td>\n",
       "      <td>economy</td>\n",
       "      <td>no</td>\n",
       "    </tr>\n",
       "    <tr>\n",
       "      <th>4</th>\n",
       "      <td>japan</td>\n",
       "      <td>honda</td>\n",
       "      <td>white</td>\n",
       "      <td>1980</td>\n",
       "      <td>economy</td>\n",
       "      <td>yes</td>\n",
       "    </tr>\n",
       "  </tbody>\n",
       "</table>\n",
       "</div>"
      ],
      "text/plain": [
       "  origin manufacturer  color  decade     type sold\n",
       "0  japan        honda   blue    1980  economy  yes\n",
       "1  japan       toyota  green    1970   sports   no\n",
       "2  japan       toyota   blue    1990  economy  yes\n",
       "3    usa     chrysler    red    1980  economy   no\n",
       "4  japan        honda  white    1980  economy  yes"
      ]
     },
     "execution_count": 86,
     "metadata": {},
     "output_type": "execute_result"
    }
   ],
   "source": [
    "import numpy as np\n",
    "import pandas as pd\n",
    "\n",
    "data = pd.read_csv('sample.csv')\n",
    "data"
   ]
  },
  {
   "cell_type": "code",
   "execution_count": 87,
   "metadata": {},
   "outputs": [
    {
     "data": {
      "text/plain": [
       "array([['japan', 'honda', 'blue', 1980, 'economy'],\n",
       "       ['japan', 'toyota', 'green', 1970, 'sports'],\n",
       "       ['japan', 'toyota', 'blue', 1990, 'economy'],\n",
       "       ['usa', 'chrysler', 'red', 1980, 'economy'],\n",
       "       ['japan', 'honda', 'white', 1980, 'economy']], dtype=object)"
      ]
     },
     "execution_count": 87,
     "metadata": {},
     "output_type": "execute_result"
    }
   ],
   "source": [
    "#extract all the rows and columns, except the concept\n",
    "d = np.array(data)[:,:-1]\n",
    "d"
   ]
  },
  {
   "cell_type": "code",
   "execution_count": 88,
   "metadata": {},
   "outputs": [
    {
     "data": {
      "text/plain": [
       "array(['yes', 'no', 'yes', 'no', 'yes'], dtype=object)"
      ]
     },
     "execution_count": 88,
     "metadata": {},
     "output_type": "execute_result"
    }
   ],
   "source": [
    "#extract the concept, which is the last column\n",
    "target = np.array(data)[:,-1]\n",
    "target"
   ]
  },
  {
   "cell_type": "code",
   "execution_count": 89,
   "metadata": {},
   "outputs": [],
   "source": [
    "def candidate_eliminate(d,t):\n",
    "    specific_hypothesis = d.copy()[0]\n",
    "    general_hypothesis = [['?' for i in range(len(specific_hypothesis))] for i in range(len(specific_hypothesis))]\n",
    "    empty_row = ['?' for i in range(len(specific_hypothesis))]\n",
    "\n",
    "    for i in range(len(d)):\n",
    "        #positive instances\n",
    "        if target[i] == 'yes' :\n",
    "            #check the current attribute values with the specific hypothesis value\n",
    "            for j in range(len(specific_hypothesis)):\n",
    "                if d[i][j] != specific_hypothesis[j]:\n",
    "                    specific_hypothesis[j] = '?'\n",
    "                    general_hypothesis[j][j] = '?'\n",
    "        #negative instances\n",
    "        else :\n",
    "            #check with with the specific hypothesis\n",
    "            for j in range(len(specific_hypothesis)):\n",
    "                if d[i][j] != specific_hypothesis[j]:\n",
    "                    general_hypothesis[j][j] = specific_hypothesis[j]\n",
    "                else:\n",
    "                    general_hypothesis[j][j] = '?'\n",
    "        \n",
    "        print(str(specific_hypothesis))\n",
    "        print(str(general_hypothesis))\n",
    "        print(\"--------------------------\")\n",
    "\n",
    "    #remove all the unused general hypotheses\n",
    "    unused_index = [i for i,val in enumerate(general_hypothesis) if val == empty_row]\n",
    "    \n",
    "    for i in unused_index:\n",
    "        general_hypothesis.remove(empty_row)\n",
    "    \n",
    "    return specific_hypothesis,general_hypothesis"
   ]
  },
  {
   "cell_type": "code",
   "execution_count": 90,
   "metadata": {},
   "outputs": [
    {
     "name": "stdout",
     "output_type": "stream",
     "text": [
      "['japan' 'honda' 'blue' 1980 'economy']\n",
      "[['?', '?', '?', '?', '?'], ['?', '?', '?', '?', '?'], ['?', '?', '?', '?', '?'], ['?', '?', '?', '?', '?'], ['?', '?', '?', '?', '?']]\n",
      "--------------------------\n",
      "['japan' 'honda' 'blue' 1980 'economy']\n",
      "[['?', '?', '?', '?', '?'], ['?', 'honda', '?', '?', '?'], ['?', '?', 'blue', '?', '?'], ['?', '?', '?', 1980, '?'], ['?', '?', '?', '?', 'economy']]\n",
      "--------------------------\n",
      "['japan' '?' 'blue' '?' 'economy']\n",
      "[['?', '?', '?', '?', '?'], ['?', '?', '?', '?', '?'], ['?', '?', 'blue', '?', '?'], ['?', '?', '?', '?', '?'], ['?', '?', '?', '?', 'economy']]\n",
      "--------------------------\n",
      "['japan' '?' 'blue' '?' 'economy']\n",
      "[['japan', '?', '?', '?', '?'], ['?', '?', '?', '?', '?'], ['?', '?', 'blue', '?', '?'], ['?', '?', '?', '?', '?'], ['?', '?', '?', '?', '?']]\n",
      "--------------------------\n",
      "['japan' '?' '?' '?' 'economy']\n",
      "[['japan', '?', '?', '?', '?'], ['?', '?', '?', '?', '?'], ['?', '?', '?', '?', '?'], ['?', '?', '?', '?', '?'], ['?', '?', '?', '?', '?']]\n",
      "--------------------------\n",
      "Final specific hypothesis - ['japan' '?' '?' '?' 'economy']\n",
      "Final general hypothesis - [['japan', '?', '?', '?', '?']]\n"
     ]
    }
   ],
   "source": [
    "sh,gh = candidate_eliminate(d,target)\n",
    "print(\"Final specific hypothesis - \" + str(sh))\n",
    "print(\"Final general hypothesis - \" + str(gh))"
   ]
  }
 ],
 "metadata": {
  "interpreter": {
   "hash": "92cc812225b590fcf14c7713270229b83a132cac44fb5700e14abe4bb18f6b0e"
  },
  "kernelspec": {
   "display_name": "Python 3.10.0 64-bit",
   "language": "python",
   "name": "python3"
  },
  "language_info": {
   "codemirror_mode": {
    "name": "ipython",
    "version": 3
   },
   "file_extension": ".py",
   "mimetype": "text/x-python",
   "name": "python",
   "nbconvert_exporter": "python",
   "pygments_lexer": "ipython3",
   "version": "3.10.0"
  },
  "orig_nbformat": 4
 },
 "nbformat": 4,
 "nbformat_minor": 2
}
