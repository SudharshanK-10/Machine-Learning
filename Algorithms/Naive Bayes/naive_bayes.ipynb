{
 "cells": [
  {
   "cell_type": "code",
   "execution_count": 107,
   "metadata": {},
   "outputs": [],
   "source": [
    "import numpy as np\n",
    "import pandas as pd"
   ]
  },
  {
   "cell_type": "code",
   "execution_count": 108,
   "metadata": {},
   "outputs": [
    {
     "data": {
      "text/html": [
       "<div>\n",
       "<style scoped>\n",
       "    .dataframe tbody tr th:only-of-type {\n",
       "        vertical-align: middle;\n",
       "    }\n",
       "\n",
       "    .dataframe tbody tr th {\n",
       "        vertical-align: top;\n",
       "    }\n",
       "\n",
       "    .dataframe thead th {\n",
       "        text-align: right;\n",
       "    }\n",
       "</style>\n",
       "<table border=\"1\" class=\"dataframe\">\n",
       "  <thead>\n",
       "    <tr style=\"text-align: right;\">\n",
       "      <th></th>\n",
       "      <th>Outlook</th>\n",
       "      <th>Temperature</th>\n",
       "      <th>Humidity</th>\n",
       "      <th>Windy</th>\n",
       "      <th>Class</th>\n",
       "    </tr>\n",
       "  </thead>\n",
       "  <tbody>\n",
       "    <tr>\n",
       "      <th>0</th>\n",
       "      <td>Sunny</td>\n",
       "      <td>Hot</td>\n",
       "      <td>High</td>\n",
       "      <td>false</td>\n",
       "      <td>N</td>\n",
       "    </tr>\n",
       "    <tr>\n",
       "      <th>1</th>\n",
       "      <td>Sunny</td>\n",
       "      <td>Hot</td>\n",
       "      <td>High</td>\n",
       "      <td>true</td>\n",
       "      <td>N</td>\n",
       "    </tr>\n",
       "    <tr>\n",
       "      <th>2</th>\n",
       "      <td>overcast</td>\n",
       "      <td>Hot</td>\n",
       "      <td>High</td>\n",
       "      <td>false</td>\n",
       "      <td>P</td>\n",
       "    </tr>\n",
       "    <tr>\n",
       "      <th>3</th>\n",
       "      <td>Rain</td>\n",
       "      <td>Mild</td>\n",
       "      <td>High</td>\n",
       "      <td>false</td>\n",
       "      <td>P</td>\n",
       "    </tr>\n",
       "    <tr>\n",
       "      <th>4</th>\n",
       "      <td>Rain</td>\n",
       "      <td>Cool</td>\n",
       "      <td>normal</td>\n",
       "      <td>false</td>\n",
       "      <td>P</td>\n",
       "    </tr>\n",
       "    <tr>\n",
       "      <th>5</th>\n",
       "      <td>Rain</td>\n",
       "      <td>Cool</td>\n",
       "      <td>normal</td>\n",
       "      <td>true</td>\n",
       "      <td>N</td>\n",
       "    </tr>\n",
       "    <tr>\n",
       "      <th>6</th>\n",
       "      <td>overcast</td>\n",
       "      <td>Cool</td>\n",
       "      <td>normal</td>\n",
       "      <td>true</td>\n",
       "      <td>P</td>\n",
       "    </tr>\n",
       "    <tr>\n",
       "      <th>7</th>\n",
       "      <td>Sunny</td>\n",
       "      <td>Mild</td>\n",
       "      <td>High</td>\n",
       "      <td>false</td>\n",
       "      <td>N</td>\n",
       "    </tr>\n",
       "  </tbody>\n",
       "</table>\n",
       "</div>"
      ],
      "text/plain": [
       "    Outlook Temperature Humidity  Windy Class\n",
       "0     Sunny         Hot     High  false     N\n",
       "1     Sunny         Hot     High   true     N\n",
       "2  overcast         Hot     High  false     P\n",
       "3      Rain        Mild     High  false     P\n",
       "4      Rain        Cool   normal  false     P\n",
       "5      Rain        Cool   normal   true     N\n",
       "6  overcast        Cool   normal   true     P\n",
       "7     Sunny        Mild     High  false     N"
      ]
     },
     "execution_count": 108,
     "metadata": {},
     "output_type": "execute_result"
    }
   ],
   "source": [
    "data = pd.read_csv('train_dataset.csv',dtype=str)\n",
    "test = ['Sunny','Cool','normal','false']\n",
    "\n",
    "data"
   ]
  },
  {
   "cell_type": "code",
   "execution_count": 109,
   "metadata": {},
   "outputs": [
    {
     "data": {
      "text/plain": [
       "[['Sunny', 'overcast', 'Rain'],\n",
       " ['Hot', 'Mild', 'Cool'],\n",
       " ['High', 'normal'],\n",
       " ['false', 'true'],\n",
       " ['N', 'P']]"
      ]
     },
     "execution_count": 109,
     "metadata": {},
     "output_type": "execute_result"
    }
   ],
   "source": [
    "attributes = list(data.columns)\n",
    "attributes_values = []\n",
    "\n",
    "#all possible attribute values\n",
    "for attribute in attributes:\n",
    "    values_of_attribute = data[attribute].values\n",
    "    values = []\n",
    "\n",
    "    for value in values_of_attribute:\n",
    "        if values.count(value) == 0:\n",
    "            values.append(value)\n",
    "\n",
    "    attributes_values.append(values)\n",
    "\n",
    "attributes_values"
   ]
  },
  {
   "cell_type": "code",
   "execution_count": 110,
   "metadata": {},
   "outputs": [
    {
     "data": {
      "text/plain": [
       "[[[3, 0], [0, 2], [1, 2]],\n",
       " [[2, 1], [1, 1], [1, 2]],\n",
       " [[3, 2], [1, 2]],\n",
       " [[2, 3], [2, 1]],\n",
       " [[4, 0], [0, 4]]]"
      ]
     },
     "execution_count": 110,
     "metadata": {},
     "output_type": "execute_result"
    }
   ],
   "source": [
    "attributes_value_count = []\n",
    "\n",
    "#count of each attribute value with respect to the label\n",
    "for i,attribute in enumerate(attributes):\n",
    "    attr_appeared = []\n",
    "\n",
    "    for value in attributes_values[i]:\n",
    "        appeared = [0 for j in range(len(attributes_values[-1]))]\n",
    "        \n",
    "        for entry1, entry2 in zip(data[attribute].values, data[attributes[-1]].values):\n",
    "            if entry1 == value:\n",
    "                pos = attributes_values[-1].index(entry2)\n",
    "                appeared[pos] += 1\n",
    "\n",
    "        attr_appeared.append(appeared)\n",
    "\n",
    "    attributes_value_count.append(attr_appeared)\n",
    "            \n",
    "attributes_value_count"
   ]
  },
  {
   "cell_type": "code",
   "execution_count": 111,
   "metadata": {},
   "outputs": [
    {
     "name": "stdout",
     "output_type": "stream",
     "text": [
      "[0.01171875, 0.0]\n",
      "Class - N\n"
     ]
    }
   ],
   "source": [
    "probability = [0 for i in range(len(attributes_values[-1]))]\n",
    "total_label_count = []\n",
    "\n",
    "for i,values in enumerate(attributes_value_count[-1]):\n",
    "    total_label_count.append(values[i])\n",
    "\n",
    "#computing P(Y/X) = P(X/Y) * P(Y)\n",
    "for i,Y in enumerate(attributes_values[-1]):\n",
    "    prob = 1\n",
    "\n",
    "    for j,X in enumerate(test):\n",
    "        prob *= attributes_value_count[j][attributes_values[j].index(X)][i] / total_label_count[i]\n",
    "\n",
    "    probability[i] = prob * total_label_count[i] / len(data)\n",
    "\n",
    "print(probability)\n",
    "print(attributes[-1] + \" - \" + attributes_values[-1][probability.index(max(probability))])"
   ]
  }
 ],
 "metadata": {
  "interpreter": {
   "hash": "92cc812225b590fcf14c7713270229b83a132cac44fb5700e14abe4bb18f6b0e"
  },
  "kernelspec": {
   "display_name": "Python 3.10.0 64-bit",
   "language": "python",
   "name": "python3"
  },
  "language_info": {
   "codemirror_mode": {
    "name": "ipython",
    "version": 3
   },
   "file_extension": ".py",
   "mimetype": "text/x-python",
   "name": "python",
   "nbconvert_exporter": "python",
   "pygments_lexer": "ipython3",
   "version": "3.10.0"
  },
  "orig_nbformat": 4
 },
 "nbformat": 4,
 "nbformat_minor": 2
}
