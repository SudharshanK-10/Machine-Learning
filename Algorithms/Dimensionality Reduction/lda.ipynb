{
 "cells": [
  {
   "cell_type": "code",
   "execution_count": 49,
   "metadata": {},
   "outputs": [
    {
     "name": "stdout",
     "output_type": "stream",
     "text": [
      "Vector =  [[-2.]\n",
      " [-2.]]\n",
      "Threshold =  -1.3333333333333333 m1 =  0.0 m2 =  -2.6666666666666665\n"
     ]
    }
   ],
   "source": [
    "import numpy as np\n",
    "\n",
    "def LoadFile(filename):\t\t#load input file containing training data\n",
    "\tlines = open(filename, \"r\")\n",
    "\tdataset =[]\n",
    "\tfor line in lines:\n",
    "\t\tline = line.strip().split(',')\n",
    "\t\tdataset.append(line)\n",
    "\tdataset = np.array(dataset).astype(np.float64)\n",
    "\treturn dataset\n",
    "\n",
    "def ByClass(dataset):\t\t#separate data by class\n",
    "\tclasses = np.unique(dataset[:,-1])\n",
    "\tdiv_class = {}\n",
    "\tfor i in classes:\n",
    "\t\tdiv_class[i] = dataset[dataset[:,-1] == i]\n",
    "\treturn div_class\n",
    "\n",
    "def Mean(data):\n",
    "\tmean = data.mean(axis = 0)\n",
    "\treturn mean\n",
    "\n",
    "def Tresh(vector, data1, data2):\n",
    "\tmu1 = Mean(np.dot(vector, data1.T))\n",
    "\tmu2 = Mean(np.dot(vector, data2.T))\n",
    "\treturn (mu1+mu2)/2, mu1, mu2\n",
    "\t\n",
    "\n",
    "def main(dataset):\t\t#assuming given two class problem\n",
    "\tdiv_data = ByClass(dataset)\n",
    "\tclass1, class2 = div_data\n",
    "\tclass1_data, class2_data = div_data[class1], div_data[class2] \n",
    "\tclass1_data = class1_data[:,:-1]\n",
    "\tclass2_data = class2_data[:,:-1]\n",
    "\tmean1 = Mean(class1_data)\n",
    "\tmean2 = Mean(class2_data)\n",
    "\tmean = Mean(dataset[:,:-1])\n",
    "\tmean1, mean2, mean = mean1.T, mean2.T, mean.T\n",
    "\t\n",
    "\t\n",
    "\tm,n = class1_data.shape\n",
    "\tdiff1 = class1_data - np.array(list(mean1)*m).reshape(m,n)\n",
    "\tm,n = class2_data.shape\n",
    "\tdiff2 = class2_data - np.array(list(mean2)*m).reshape(m,n)\n",
    "\tdiff = np.concatenate([diff1, diff2])\n",
    "\tm, n = diff.shape\n",
    "\twithinClass = np.zeros((n,n))\n",
    "\tdiff = np.matrix(diff)\n",
    "\tfor i in range(m):\n",
    "\t\twithinClass += np.dot(diff[i,:].T, diff[i,:])\n",
    "\topt_dir_vector = np.dot(np.linalg.inv(withinClass), (mean1 - mean2))\n",
    "\tprint('Vector = ', np.matrix(opt_dir_vector).T)\n",
    "\t\n",
    "\tthreshold, mu1, mu2 = Tresh(opt_dir_vector, class1_data, class2_data)\n",
    "\tprint ('Threshold = ', threshold, 'm1 = ', mu1, 'm2 = ', mu2)\n",
    "\t\n",
    "\t\n",
    "if __name__ == '__main__':\t\n",
    "\tfilename = 'data.txt'\n",
    "\tdataset = LoadFile(filename)\n",
    "\tmain(dataset)"
   ]
  }
 ],
 "metadata": {
  "interpreter": {
   "hash": "92cc812225b590fcf14c7713270229b83a132cac44fb5700e14abe4bb18f6b0e"
  },
  "kernelspec": {
   "display_name": "Python 3.10.0 64-bit",
   "language": "python",
   "name": "python3"
  },
  "language_info": {
   "codemirror_mode": {
    "name": "ipython",
    "version": 3
   },
   "file_extension": ".py",
   "mimetype": "text/x-python",
   "name": "python",
   "nbconvert_exporter": "python",
   "pygments_lexer": "ipython3",
   "version": "3.10.0"
  },
  "orig_nbformat": 4
 },
 "nbformat": 4,
 "nbformat_minor": 2
}
