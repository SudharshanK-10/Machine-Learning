{
 "cells": [
  {
   "cell_type": "code",
   "execution_count": 1,
   "metadata": {},
   "outputs": [],
   "source": [
    "import numpy as np\n",
    "import copy"
   ]
  },
  {
   "cell_type": "code",
   "execution_count": 26,
   "metadata": {},
   "outputs": [
    {
     "data": {
      "text/plain": [
       "array([[1, 1],\n",
       "       [2, 1],\n",
       "       [4, 3],\n",
       "       [5, 4]])"
      ]
     },
     "execution_count": 26,
     "metadata": {},
     "output_type": "execute_result"
    }
   ],
   "source": [
    "X = np.array([[1,1],[2,1],[4,3],[5,4]])\n",
    "k = 3\n",
    "X"
   ]
  },
  {
   "cell_type": "code",
   "execution_count": 27,
   "metadata": {},
   "outputs": [],
   "source": [
    "def check_equal(a,b):\n",
    "    for i in range(len(a)):\n",
    "        for j in range(len(a[0])):\n",
    "            if a[i][j] != b[i][j]:\n",
    "                return False\n",
    "    return True"
   ]
  },
  {
   "cell_type": "code",
   "execution_count": 28,
   "metadata": {},
   "outputs": [],
   "source": [
    "def kmeans(X, k):\n",
    "    #X - datpoints, k - no of clusters\n",
    "    \n",
    "    points = X.copy()\n",
    "    centers = X[0:k].copy() * 1.0\n",
    "    previous_centers = X[0:k].copy() * 1.0\n",
    "\n",
    "    points_belong_to = [-1 for i in range(len(points))]\n",
    "    converged = False\n",
    "\n",
    "    iterations = 0\n",
    "\n",
    "    while converged != True:\n",
    "        for i,point in enumerate(points):\n",
    "            cluster = -1\n",
    "            min_distance = 1e9\n",
    "\n",
    "            for curr_cluster,center in enumerate(centers):\n",
    "                curr_distance = np.sqrt((point[0] - center[0])**2 + (point[1] - center[1])**2)\n",
    "                if curr_distance < min_distance:\n",
    "                    min_distance = curr_distance\n",
    "                    cluster = curr_cluster\n",
    "\n",
    "            points_belong_to[i] = cluster\n",
    "\n",
    "        for i in range(k):\n",
    "            cx,cy = 0,0\n",
    "            count = 0\n",
    "\n",
    "            for j in range(len(points)):\n",
    "                if points_belong_to[j] == i:\n",
    "                    cx += points[j][0]\n",
    "                    cy += points[j][1]\n",
    "                    count += 1\n",
    "\n",
    "            centers[i][0] = cx/count\n",
    "            centers[i][1] = cy/count\n",
    "\n",
    "        if check_equal(previous_centers,centers):\n",
    "            converged = True\n",
    "\n",
    "        previous_centers = centers\n",
    "        iterations += 1\n",
    "        \n",
    "    #print(iterations)\n",
    "\n",
    "    #find standard deviation\n",
    "    std = [0 for i in range(k)]\n",
    "\n",
    "    for i in range(k):\n",
    "        count = 0\n",
    "        curr_std = 0\n",
    "\n",
    "        for j in range(len(points)):\n",
    "            if points_belong_to[j] == i:\n",
    "                dist = ((points[j][0] - centers[i][0])**2 + (points[j][1] - centers[i][1])**2)\n",
    "                curr_std += dist\n",
    "                count += 1\n",
    "\n",
    "        curr_std /= count\n",
    "        std[i] = np.sqrt(curr_std)\n",
    "\n",
    "    return centers,std"
   ]
  },
  {
   "cell_type": "code",
   "execution_count": 29,
   "metadata": {},
   "outputs": [],
   "source": [
    "cluster_centers,standard_deviations = kmeans(X,k)"
   ]
  },
  {
   "cell_type": "code",
   "execution_count": 30,
   "metadata": {},
   "outputs": [
    {
     "data": {
      "text/plain": [
       "array([[1. , 1. ],\n",
       "       [2. , 1. ],\n",
       "       [4.5, 3.5]])"
      ]
     },
     "execution_count": 30,
     "metadata": {},
     "output_type": "execute_result"
    }
   ],
   "source": [
    "cluster_centers"
   ]
  },
  {
   "cell_type": "code",
   "execution_count": 31,
   "metadata": {},
   "outputs": [
    {
     "data": {
      "text/plain": [
       "[0.0, 0.0, 0.7071067811865476]"
      ]
     },
     "execution_count": 31,
     "metadata": {},
     "output_type": "execute_result"
    }
   ],
   "source": [
    "standard_deviations"
   ]
  }
 ],
 "metadata": {
  "interpreter": {
   "hash": "2403cbcac7126032e7e67d7edaa74030fff42297320ae2837ecf8ee8107d1f06"
  },
  "kernelspec": {
   "display_name": "Python 3.10.0 64-bit",
   "language": "python",
   "name": "python3"
  },
  "language_info": {
   "codemirror_mode": {
    "name": "ipython",
    "version": 3
   },
   "file_extension": ".py",
   "mimetype": "text/x-python",
   "name": "python",
   "nbconvert_exporter": "python",
   "pygments_lexer": "ipython3",
   "version": "3.10.0"
  },
  "orig_nbformat": 4
 },
 "nbformat": 4,
 "nbformat_minor": 2
}
