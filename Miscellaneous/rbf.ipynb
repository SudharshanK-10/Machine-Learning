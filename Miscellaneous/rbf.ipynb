{
 "cells": [
  {
   "cell_type": "code",
   "execution_count": 293,
   "metadata": {},
   "outputs": [],
   "source": [
    "import numpy as np\n",
    "import matplotlib.pyplot as plt"
   ]
  },
  {
   "cell_type": "code",
   "execution_count": 294,
   "metadata": {},
   "outputs": [],
   "source": [
    "input = np.array([[0,0],[0,1],[1,0],[1,1]])\n",
    "output = np.array([[0,1,1,0]]).T"
   ]
  },
  {
   "cell_type": "code",
   "execution_count": 295,
   "metadata": {},
   "outputs": [],
   "source": [
    "input_neurons = 2\n",
    "k = hidden_neurons = 2\n",
    "output_neurons = 1"
   ]
  },
  {
   "cell_type": "code",
   "execution_count": 296,
   "metadata": {},
   "outputs": [
    {
     "data": {
      "text/plain": [
       "array([[0, 0],\n",
       "       [1, 1]])"
      ]
     },
     "execution_count": 296,
     "metadata": {},
     "output_type": "execute_result"
    }
   ],
   "source": [
    "#selecting k random centers\n",
    "n = np.random.choice(len(input),size = k,replace = False)\n",
    "centers = input[n,:]\n",
    "centers"
   ]
  },
  {
   "cell_type": "code",
   "execution_count": 297,
   "metadata": {},
   "outputs": [
    {
     "data": {
      "text/plain": [
       "0.7071067811865476"
      ]
     },
     "execution_count": 297,
     "metadata": {},
     "output_type": "execute_result"
    }
   ],
   "source": [
    "#standard deviation\n",
    "\n",
    "dmax = -1\n",
    "#max distance between 'k' cluster centers\n",
    "for cluster1 in centers:\n",
    "    for cluster2 in centers:\n",
    "        dist = np.sqrt((cluster1[0] - cluster2[0])**2 + (cluster1[1] - cluster2[1])**2)\n",
    "        if dist > dmax:\n",
    "            dmax = dist\n",
    "\n",
    "sd = dmax / np.sqrt(2 * k)\n",
    "sd"
   ]
  },
  {
   "cell_type": "code",
   "execution_count": 298,
   "metadata": {},
   "outputs": [],
   "source": [
    "def rbf(x,c,sd):\n",
    "    return np.exp(-1 * ((x[0] - c[0])**2 + (x[1] - c[1])**2) / (2 * (sd**2)))"
   ]
  },
  {
   "cell_type": "code",
   "execution_count": 299,
   "metadata": {},
   "outputs": [],
   "source": [
    "def sigmoid(x, der=False):\n",
    "    if der == False:\n",
    "        return 1 / (1 + np.exp(-x))\n",
    "    \n",
    "    return x * (1 - x)"
   ]
  },
  {
   "cell_type": "code",
   "execution_count": 300,
   "metadata": {},
   "outputs": [
    {
     "data": {
      "text/plain": [
       "array([[1.        , 0.13533528],\n",
       "       [0.36787944, 0.36787944],\n",
       "       [0.36787944, 0.36787944],\n",
       "       [0.13533528, 1.        ]])"
      ]
     },
     "execution_count": 300,
     "metadata": {},
     "output_type": "execute_result"
    }
   ],
   "source": [
    "#input layer - hidden layer\n",
    "\n",
    "transformed_input = []\n",
    "\n",
    "for point in input:\n",
    "    row = []\n",
    "    for cluster in centers:\n",
    "        row.append(rbf(point,cluster,sd))\n",
    "\n",
    "    transformed_input.append(row)\n",
    "\n",
    "transformed_input = np.array(transformed_input)\n",
    "transformed_input"
   ]
  },
  {
   "cell_type": "code",
   "execution_count": 301,
   "metadata": {},
   "outputs": [
    {
     "data": {
      "text/plain": [
       "array([[0.030961  ],\n",
       "       [0.96691969],\n",
       "       [0.96691969],\n",
       "       [0.030961  ]])"
      ]
     },
     "execution_count": 301,
     "metadata": {},
     "output_type": "execute_result"
    }
   ],
   "source": [
    "#hidden layer - output layer\n",
    "\n",
    "weights = np.random.random((hidden_neurons,output_neurons))\n",
    "bias = np.random.random((1,output_neurons))\n",
    "\n",
    "predicted = []\n",
    "\n",
    "for epoch in range(10000):\n",
    "    \n",
    "    #feed forward\n",
    "    weighted_sum = np.dot(transformed_input,weights) + bias     # 4 x 1    \n",
    "    curr_output = sigmoid(weighted_sum)                        # 4 x 1\n",
    "\n",
    "    #backpropagation\n",
    "    error = output - curr_output                               # 4 x 1\n",
    "    adjust = error * sigmoid(curr_output,True)                  # 4 x 1\n",
    "\n",
    "    weights += np.dot(transformed_input.T,adjust)           # 2 x 1\n",
    "    bias += np.sum(adjust,axis=0)\n",
    "    \n",
    "    predicted = curr_output\n",
    "\n",
    "predicted"
   ]
  },
  {
   "cell_type": "code",
   "execution_count": 302,
   "metadata": {},
   "outputs": [
    {
     "name": "stdout",
     "output_type": "stream",
     "text": [
      "[[-17.06523205]\n",
      " [-17.06523205]]\n",
      "[[15.93112855]]\n"
     ]
    }
   ],
   "source": [
    "print(weights)\n",
    "print(bias)"
   ]
  },
  {
   "cell_type": "code",
   "execution_count": 303,
   "metadata": {},
   "outputs": [],
   "source": [
    "#boundary line\n",
    "# w1 x1 + w2 x2 + b = 0\n",
    "# x2 = (- b - w1 x1)/w2\n",
    "\n",
    "x2 = []\n",
    "for i in range(len(input)):\n",
    "    x2.append((- bias[0][0] - weights[0][0] * transformed_input[i][0]) / weights[1][0])"
   ]
  },
  {
   "cell_type": "code",
   "execution_count": 304,
   "metadata": {},
   "outputs": [
    {
     "data": {
      "text/plain": [
       "[<matplotlib.lines.Line2D at 0x1a26fca6b30>]"
      ]
     },
     "execution_count": 304,
     "metadata": {},
     "output_type": "execute_result"
    },
    {
     "data": {
      "image/png": "[encoded data removed]",
      "text/plain": [
       "<Figure size 432x288 with 1 Axes>"
      ]
     },
     "metadata": {
      "needs_background": "light"
     },
     "output_type": "display_data"
    }
   ],
   "source": [
    "plt.scatter(transformed_input.T[0],transformed_input.T[1],color=\"#f00\")\n",
    "plt.plot(transformed_input.T[0],x2,color=\"#000\")"
   ]
  },
  {
   "cell_type": "code",
   "execution_count": null,
   "metadata": {},
   "outputs": [],
   "source": []
  }
 ],
 "metadata": {
  "interpreter": {
   "hash": "92cc812225b590fcf14c7713270229b83a132cac44fb5700e14abe4bb18f6b0e"
  },
  "kernelspec": {
   "display_name": "Python 3.10.0 64-bit",
   "language": "python",
   "name": "python3"
  },
  "language_info": {
   "codemirror_mode": {
    "name": "ipython",
    "version": 3
   },
   "file_extension": ".py",
   "mimetype": "text/x-python",
   "name": "python",
   "nbconvert_exporter": "python",
   "pygments_lexer": "ipython3",
   "version": "3.10.0"
  },
  "orig_nbformat": 4
 },
 "nbformat": 4,
 "nbformat_minor": 2
}
