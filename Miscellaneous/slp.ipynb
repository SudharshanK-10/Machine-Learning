{
 "cells": [
  {
   "cell_type": "code",
   "execution_count": 34,
   "metadata": {},
   "outputs": [],
   "source": [
    "import numpy as np\n",
    "import matplotlib.pyplot as plt"
   ]
  },
  {
   "cell_type": "code",
   "execution_count": 35,
   "metadata": {},
   "outputs": [],
   "source": [
    "input = np.array([[0,0],[0,1],[1,0],[1,1]])\n",
    "output = np.array([[1,0,0,0]]).T"
   ]
  },
  {
   "cell_type": "code",
   "execution_count": 36,
   "metadata": {},
   "outputs": [],
   "source": [
    "input_neurons = 2\n",
    "output_neurons = 1"
   ]
  },
  {
   "cell_type": "code",
   "execution_count": 37,
   "metadata": {},
   "outputs": [],
   "source": [
    "weights = np.random.random((input_neurons,output_neurons))\n",
    "bias = np.random.random((1,output_neurons))"
   ]
  },
  {
   "cell_type": "code",
   "execution_count": 38,
   "metadata": {},
   "outputs": [],
   "source": [
    "def sigmoid(x,der=False):\n",
    "    if der == True:\n",
    "        return x * (1 - x)\n",
    "    \n",
    "    return 1 / (1 + np.exp(-x))"
   ]
  },
  {
   "cell_type": "code",
   "execution_count": 39,
   "metadata": {},
   "outputs": [
    {
     "data": {
      "text/plain": [
       "array([[9.83717501e-01],\n",
       "       [1.02616038e-02],\n",
       "       [1.02615976e-02],\n",
       "       [1.77925938e-06]])"
      ]
     },
     "execution_count": 39,
     "metadata": {},
     "output_type": "execute_result"
    }
   ],
   "source": [
    "predicted = []\n",
    "learning_rate = 1\n",
    "\n",
    "for epoch in range(10000):\n",
    "    \n",
    "    weighted_sum = np.dot(input,weights) + bias\n",
    "    curr_output = sigmoid(weighted_sum)\n",
    "\n",
    "    error = output - curr_output\n",
    "    adjust = error * sigmoid(curr_output,True)\n",
    "\n",
    "    weights += np.dot(input.T,adjust) * learning_rate\n",
    "    bias += np.sum(adjust,axis=0) * learning_rate\n",
    "\n",
    "    predicted = curr_output\n",
    "\n",
    "predicted"
   ]
  },
  {
   "cell_type": "code",
   "execution_count": 40,
   "metadata": {},
   "outputs": [],
   "source": [
    "# linear separability\n",
    "posx = []\n",
    "posy = []\n",
    "negx = []\n",
    "negy = []\n",
    "\n",
    "for i,op in enumerate(output.T[0]):\n",
    "    if op == 1:\n",
    "        posx.append(input[i][0])\n",
    "        posy.append(input[i][1])\n",
    "    else:\n",
    "        negx.append(input[i][0])\n",
    "        negy.append(input[i][1])"
   ]
  },
  {
   "cell_type": "code",
   "execution_count": 41,
   "metadata": {},
   "outputs": [
    {
     "data": {
      "text/plain": [
       "[<matplotlib.lines.Line2D at 0x1b59de5e530>]"
      ]
     },
     "execution_count": 41,
     "metadata": {},
     "output_type": "execute_result"
    },
    {
     "data": {
      "image/png": "[encoded data removed]",
      "text/plain": [
       "<Figure size 432x288 with 1 Axes>"
      ]
     },
     "metadata": {
      "needs_background": "light"
     },
     "output_type": "display_data"
    }
   ],
   "source": [
    "plt.scatter(posx,posy,color=\"#f00\")\n",
    "plt.scatter(negx,negy,color=\"#000\")\n",
    "\n",
    "# boundary line\n",
    "x = [0,1]\n",
    "y = []\n",
    "\n",
    "for i in range(2):\n",
    "    y.append((-bias[0] - weights[0][0]*i) / weights[1][0])\n",
    "\n",
    "plt.plot(x,y,color=\"#00f\")"
   ]
  },
  {
   "cell_type": "code",
   "execution_count": null,
   "metadata": {},
   "outputs": [],
   "source": []
  }
 ],
 "metadata": {
  "interpreter": {
   "hash": "92cc812225b590fcf14c7713270229b83a132cac44fb5700e14abe4bb18f6b0e"
  },
  "kernelspec": {
   "display_name": "Python 3.10.0 64-bit",
   "language": "python",
   "name": "python3"
  },
  "language_info": {
   "codemirror_mode": {
    "name": "ipython",
    "version": 3
   },
   "file_extension": ".py",
   "mimetype": "text/x-python",
   "name": "python",
   "nbconvert_exporter": "python",
   "pygments_lexer": "ipython3",
   "version": "3.10.0"
  },
  "orig_nbformat": 4
 },
 "nbformat": 4,
 "nbformat_minor": 2
}
