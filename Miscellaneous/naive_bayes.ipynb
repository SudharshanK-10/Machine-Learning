{
 "cells": [
  {
   "cell_type": "code",
   "execution_count": 95,
   "metadata": {},
   "outputs": [],
   "source": [
    "import numpy as np\n",
    "import pandas as pd"
   ]
  },
  {
   "cell_type": "code",
   "execution_count": 96,
   "metadata": {},
   "outputs": [
    {
     "data": {
      "text/html": [
       "<div>\n",
       "<style scoped>\n",
       "    .dataframe tbody tr th:only-of-type {\n",
       "        vertical-align: middle;\n",
       "    }\n",
       "\n",
       "    .dataframe tbody tr th {\n",
       "        vertical-align: top;\n",
       "    }\n",
       "\n",
       "    .dataframe thead th {\n",
       "        text-align: right;\n",
       "    }\n",
       "</style>\n",
       "<table border=\"1\" class=\"dataframe\">\n",
       "  <thead>\n",
       "    <tr style=\"text-align: right;\">\n",
       "      <th></th>\n",
       "      <th>Outlook</th>\n",
       "      <th>Temperature</th>\n",
       "      <th>Humidity</th>\n",
       "      <th>Windy</th>\n",
       "      <th>PlayGolf</th>\n",
       "    </tr>\n",
       "  </thead>\n",
       "  <tbody>\n",
       "    <tr>\n",
       "      <th>0</th>\n",
       "      <td>Rainy</td>\n",
       "      <td>Hot</td>\n",
       "      <td>High</td>\n",
       "      <td>False</td>\n",
       "      <td>No</td>\n",
       "    </tr>\n",
       "    <tr>\n",
       "      <th>1</th>\n",
       "      <td>Rainy</td>\n",
       "      <td>Hot</td>\n",
       "      <td>High</td>\n",
       "      <td>True</td>\n",
       "      <td>No</td>\n",
       "    </tr>\n",
       "    <tr>\n",
       "      <th>2</th>\n",
       "      <td>Overcast</td>\n",
       "      <td>Hot</td>\n",
       "      <td>High</td>\n",
       "      <td>False</td>\n",
       "      <td>Yes</td>\n",
       "    </tr>\n",
       "    <tr>\n",
       "      <th>3</th>\n",
       "      <td>Sunny</td>\n",
       "      <td>Mild</td>\n",
       "      <td>High</td>\n",
       "      <td>False</td>\n",
       "      <td>Yes</td>\n",
       "    </tr>\n",
       "    <tr>\n",
       "      <th>4</th>\n",
       "      <td>Sunny</td>\n",
       "      <td>Cool</td>\n",
       "      <td>Normal</td>\n",
       "      <td>False</td>\n",
       "      <td>Yes</td>\n",
       "    </tr>\n",
       "    <tr>\n",
       "      <th>5</th>\n",
       "      <td>Sunny</td>\n",
       "      <td>Cool</td>\n",
       "      <td>Normal</td>\n",
       "      <td>True</td>\n",
       "      <td>No</td>\n",
       "    </tr>\n",
       "    <tr>\n",
       "      <th>6</th>\n",
       "      <td>Overcast</td>\n",
       "      <td>Cool</td>\n",
       "      <td>Normal</td>\n",
       "      <td>True</td>\n",
       "      <td>Yes</td>\n",
       "    </tr>\n",
       "    <tr>\n",
       "      <th>7</th>\n",
       "      <td>Rainy</td>\n",
       "      <td>Mild</td>\n",
       "      <td>High</td>\n",
       "      <td>False</td>\n",
       "      <td>No</td>\n",
       "    </tr>\n",
       "    <tr>\n",
       "      <th>8</th>\n",
       "      <td>Rainy</td>\n",
       "      <td>Cool</td>\n",
       "      <td>Normal</td>\n",
       "      <td>False</td>\n",
       "      <td>Yes</td>\n",
       "    </tr>\n",
       "    <tr>\n",
       "      <th>9</th>\n",
       "      <td>Sunny</td>\n",
       "      <td>Mild</td>\n",
       "      <td>Normal</td>\n",
       "      <td>False</td>\n",
       "      <td>Yes</td>\n",
       "    </tr>\n",
       "    <tr>\n",
       "      <th>10</th>\n",
       "      <td>Rainy</td>\n",
       "      <td>Mild</td>\n",
       "      <td>Normal</td>\n",
       "      <td>True</td>\n",
       "      <td>Yes</td>\n",
       "    </tr>\n",
       "    <tr>\n",
       "      <th>11</th>\n",
       "      <td>Overcast</td>\n",
       "      <td>Mild</td>\n",
       "      <td>High</td>\n",
       "      <td>True</td>\n",
       "      <td>Yes</td>\n",
       "    </tr>\n",
       "    <tr>\n",
       "      <th>12</th>\n",
       "      <td>Overcast</td>\n",
       "      <td>Hot</td>\n",
       "      <td>Normal</td>\n",
       "      <td>False</td>\n",
       "      <td>Yes</td>\n",
       "    </tr>\n",
       "    <tr>\n",
       "      <th>13</th>\n",
       "      <td>Sunny</td>\n",
       "      <td>Mild</td>\n",
       "      <td>High</td>\n",
       "      <td>True</td>\n",
       "      <td>No</td>\n",
       "    </tr>\n",
       "  </tbody>\n",
       "</table>\n",
       "</div>"
      ],
      "text/plain": [
       "     Outlook Temperature Humidity  Windy PlayGolf\n",
       "0      Rainy         Hot     High  False       No\n",
       "1      Rainy         Hot     High   True       No\n",
       "2   Overcast         Hot     High  False      Yes\n",
       "3      Sunny        Mild     High  False      Yes\n",
       "4      Sunny        Cool   Normal  False      Yes\n",
       "5      Sunny        Cool   Normal   True       No\n",
       "6   Overcast        Cool   Normal   True      Yes\n",
       "7      Rainy        Mild     High  False       No\n",
       "8      Rainy        Cool   Normal  False      Yes\n",
       "9      Sunny        Mild   Normal  False      Yes\n",
       "10     Rainy        Mild   Normal   True      Yes\n",
       "11  Overcast        Mild     High   True      Yes\n",
       "12  Overcast         Hot   Normal  False      Yes\n",
       "13     Sunny        Mild     High   True       No"
      ]
     },
     "execution_count": 96,
     "metadata": {},
     "output_type": "execute_result"
    }
   ],
   "source": [
    "data = pd.read_csv('sample.csv',dtype=str)\n",
    "test = ['Sunny','Cool','Normal','False']\n",
    "data"
   ]
  },
  {
   "cell_type": "code",
   "execution_count": 97,
   "metadata": {},
   "outputs": [
    {
     "data": {
      "text/plain": [
       "[['Rainy', 'Overcast', 'Sunny'],\n",
       " ['Hot', 'Mild', 'Cool'],\n",
       " ['High', 'Normal'],\n",
       " ['False', 'True'],\n",
       " ['No', 'Yes']]"
      ]
     },
     "execution_count": 97,
     "metadata": {},
     "output_type": "execute_result"
    }
   ],
   "source": [
    "attributes = list(data.columns)\n",
    "attributes_values = []\n",
    "\n",
    "for attribute in attributes:\n",
    "    map = []\n",
    "    for value in data[attribute].values:\n",
    "        if map.count(value) == 0:\n",
    "            map.append(value)\n",
    "\n",
    "    attributes_values.append(map)\n",
    "\n",
    "attributes_values"
   ]
  },
  {
   "cell_type": "code",
   "execution_count": 98,
   "metadata": {},
   "outputs": [
    {
     "data": {
      "text/plain": [
       "[[[3, 2], [0, 4], [2, 3]],\n",
       " [[2, 2], [2, 4], [1, 3]],\n",
       " [[4, 3], [1, 6]],\n",
       " [[2, 6], [3, 3]],\n",
       " [[5, 0], [0, 9]]]"
      ]
     },
     "execution_count": 98,
     "metadata": {},
     "output_type": "execute_result"
    }
   ],
   "source": [
    "attributes_values_count = []\n",
    "\n",
    "for i,attribute in enumerate(attributes):\n",
    "    counter = []\n",
    "\n",
    "    for val in attributes_values[i]:\n",
    "        counter.append([0 for j in range(len(attributes_values[-1]))])\n",
    "\n",
    "    for j,val in enumerate(data[attribute].values):\n",
    "        val_index = attributes_values[i].index(val)\n",
    "        label = data[attributes[-1]].values[j]\n",
    "        label_index = attributes_values[-1].index(label)\n",
    "        counter[val_index][label_index] += 1\n",
    "\n",
    "    attributes_values_count.append(counter)\n",
    "\n",
    "attributes_values_count\n"
   ]
  },
  {
   "cell_type": "code",
   "execution_count": 99,
   "metadata": {},
   "outputs": [
    {
     "data": {
      "text/plain": [
       "[0.0022857142857142863, 0.031746031746031744]"
      ]
     },
     "execution_count": 99,
     "metadata": {},
     "output_type": "execute_result"
    }
   ],
   "source": [
    "label_count = []\n",
    "\n",
    "for row in attributes_values_count[-1]:\n",
    "    label_count.append(np.sum(row))\n",
    "\n",
    "probability = [1 for i in range(len(label_count))]\n",
    "\n",
    "for i,attr in enumerate(test):\n",
    "    attr_index = attributes_values[i].index(attr)\n",
    "    \n",
    "    for j in range(len(label_count)):\n",
    "        probability[j] *= attributes_values_count[i][attr_index][j] / label_count[j]\n",
    "\n",
    "for i in range(len(label_count)):\n",
    "    probability[i] *= label_count[i] / np.sum(label_count)\n",
    "\n",
    "probability\n"
   ]
  },
  {
   "cell_type": "code",
   "execution_count": 100,
   "metadata": {},
   "outputs": [
    {
     "name": "stdout",
     "output_type": "stream",
     "text": [
      "PlayGolf - Yes\n"
     ]
    }
   ],
   "source": [
    "print(attributes[-1] + ' - ' + attributes_values[-1][probability.index(np.max(probability))])"
   ]
  }
 ],
 "metadata": {
  "interpreter": {
   "hash": "92cc812225b590fcf14c7713270229b83a132cac44fb5700e14abe4bb18f6b0e"
  },
  "kernelspec": {
   "display_name": "Python 3.10.0 64-bit",
   "language": "python",
   "name": "python3"
  },
  "language_info": {
   "codemirror_mode": {
    "name": "ipython",
    "version": 3
   },
   "file_extension": ".py",
   "mimetype": "text/x-python",
   "name": "python",
   "nbconvert_exporter": "python",
   "pygments_lexer": "ipython3",
   "version": "3.10.0"
  },
  "orig_nbformat": 4
 },
 "nbformat": 4,
 "nbformat_minor": 2
}
