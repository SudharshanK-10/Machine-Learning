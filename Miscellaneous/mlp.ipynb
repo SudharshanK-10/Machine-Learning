{
 "cells": [
  {
   "cell_type": "code",
   "execution_count": 39,
   "metadata": {},
   "outputs": [],
   "source": [
    "import numpy as np"
   ]
  },
  {
   "cell_type": "code",
   "execution_count": 40,
   "metadata": {},
   "outputs": [],
   "source": [
    "input = np.array([[0,0],[0,1],[1,0],[1,1]])\n",
    "output = np.array([[0,1,1,0]]).T"
   ]
  },
  {
   "cell_type": "code",
   "execution_count": 41,
   "metadata": {},
   "outputs": [],
   "source": [
    "input_neurons = 2\n",
    "hidden_neurons = 2\n",
    "output_neurons = 1"
   ]
  },
  {
   "cell_type": "code",
   "execution_count": 42,
   "metadata": {},
   "outputs": [],
   "source": [
    "weights1 = np.random.random((input_neurons,hidden_neurons))\n",
    "bias1 = np.random.random((1,hidden_neurons))\n",
    "\n",
    "weights2 = np.random.random((hidden_neurons,output_neurons))\n",
    "bias2 = np.random.random((1,output_neurons))"
   ]
  },
  {
   "cell_type": "code",
   "execution_count": 43,
   "metadata": {},
   "outputs": [],
   "source": [
    "def sigmoid(x,der=False):\n",
    "    if der == True:\n",
    "        return x * (1 - x)\n",
    "    \n",
    "    return 1 / (1 + np.exp(-x))"
   ]
  },
  {
   "cell_type": "code",
   "execution_count": 44,
   "metadata": {},
   "outputs": [
    {
     "data": {
      "text/plain": [
       "array([[0.0608053 ],\n",
       "       [0.94295837],\n",
       "       [0.9435701 ],\n",
       "       [0.06182803]])"
      ]
     },
     "execution_count": 44,
     "metadata": {},
     "output_type": "execute_result"
    }
   ],
   "source": [
    "predicted = []\n",
    "\n",
    "for epoch in range(1000):\n",
    "\n",
    "    weighted_sum1 = np.dot(input,weights1) + bias1\n",
    "    curr_output1 = sigmoid(weighted_sum1)\n",
    "\n",
    "    weighted_sum2 = np.dot(curr_output1,weights2) + bias2\n",
    "    curr_output2 = sigmoid(weighted_sum2)\n",
    "\n",
    "    error2 = output - curr_output2\n",
    "    adjust2 = error2 * sigmoid(curr_output2,True)\n",
    "\n",
    "    error1 = np.dot(adjust2,weights2.T)\n",
    "    adjust1 = error1 * sigmoid(curr_output1,True)\n",
    "\n",
    "    weights1 += np.dot(input.T,adjust1)\n",
    "    bias1 += np.sum(adjust1,axis=0)\n",
    "\n",
    "    weights2 += np.dot(curr_output1.T,adjust2)\n",
    "    bias2 += np.sum(adjust2,axis=0)\n",
    "\n",
    "    predicted = curr_output2\n",
    "\n",
    "predicted"
   ]
  },
  {
   "cell_type": "code",
   "execution_count": null,
   "metadata": {},
   "outputs": [],
   "source": []
  }
 ],
 "metadata": {
  "interpreter": {
   "hash": "92cc812225b590fcf14c7713270229b83a132cac44fb5700e14abe4bb18f6b0e"
  },
  "kernelspec": {
   "display_name": "Python 3.10.0 64-bit",
   "language": "python",
   "name": "python3"
  },
  "language_info": {
   "codemirror_mode": {
    "name": "ipython",
    "version": 3
   },
   "file_extension": ".py",
   "mimetype": "text/x-python",
   "name": "python",
   "nbconvert_exporter": "python",
   "pygments_lexer": "ipython3",
   "version": "3.10.0"
  },
  "orig_nbformat": 4
 },
 "nbformat": 4,
 "nbformat_minor": 2
}
