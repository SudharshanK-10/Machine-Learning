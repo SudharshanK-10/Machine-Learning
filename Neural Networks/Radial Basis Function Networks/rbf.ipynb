{
 "cells": [
  {
   "cell_type": "code",
   "execution_count": 8,
   "metadata": {},
   "outputs": [],
   "source": [
    "import numpy as np\n",
    "import copy\n",
    "\n",
    "input = np.array([[0,0],[0,1],[1,0],[1,1]])\n",
    "output = np.array([[0],[1],[1],[0]])"
   ]
  },
  {
   "cell_type": "code",
   "execution_count": 9,
   "metadata": {},
   "outputs": [],
   "source": [
    "def rbf(x , c, s):\n",
    "    #x - datapoint, c - cluster center, s - standard deviation\n",
    "    return np.exp(-1 / 2 * (np.sqrt((x[0] - c[0])**2 + (x[1] - c[1])**2) / s) ** 2)"
   ]
  },
  {
   "cell_type": "code",
   "execution_count": 10,
   "metadata": {},
   "outputs": [],
   "source": [
    "def sigmoid(x):\n",
    "    return 1 / (1 + np.exp(-x))\n",
    "\n",
    "def der(x):\n",
    "    return x * (1 - x)"
   ]
  },
  {
   "cell_type": "code",
   "execution_count": 11,
   "metadata": {},
   "outputs": [],
   "source": [
    "def check_equal(a,b):\n",
    "    for i in range(len(a)):\n",
    "        for j in range(len(a[0])):\n",
    "            if a[i][j] != b[i][j]:\n",
    "                return False\n",
    "    return True"
   ]
  },
  {
   "cell_type": "code",
   "execution_count": 12,
   "metadata": {},
   "outputs": [],
   "source": [
    "def kmeans(X, k):\n",
    "    #X - datpoints, k - no of clusters\n",
    "    \n",
    "    points = X.copy()\n",
    "    centers = X[0:k].copy()\n",
    "    previous_centers = X[0:k].copy()\n",
    "\n",
    "    points_belong_to = [-1 for i in range(len(points))]\n",
    "    converged = False\n",
    "\n",
    "    iterations = 0\n",
    "\n",
    "    while converged != True:\n",
    "        for i,point in enumerate(points):\n",
    "            cluster = -1\n",
    "            min_distance = 1e9\n",
    "\n",
    "            for curr_cluster,center in enumerate(centers):\n",
    "                curr_distance = np.sqrt((point[0] - center[0])**2 + (point[1] - center[1])**2)\n",
    "                if curr_distance < min_distance:\n",
    "                    min_distance = curr_distance\n",
    "                    cluster = curr_cluster\n",
    "\n",
    "            points_belong_to[i] = cluster\n",
    "\n",
    "        for i in range(k):\n",
    "            cx,cy = 0,0\n",
    "            count = 0\n",
    "\n",
    "            for j in range(len(points)):\n",
    "                if points_belong_to[j] == i:\n",
    "                    cx += points[j][0]\n",
    "                    cy += points[j][1]\n",
    "                    count += 1\n",
    "                            \n",
    "            centers[i][0] = cx/count\n",
    "            centers[i][1] = cy/count\n",
    "\n",
    "        if check_equal(previous_centers,centers):\n",
    "            converged = True\n",
    "\n",
    "        previous_centers = centers\n",
    "        iterations += 1\n",
    "\n",
    "    #print(iterations)\n",
    "\n",
    "    #find standard deviation\n",
    "    std = [0 for i in range(k)]\n",
    "\n",
    "    for i in range(k):\n",
    "        count = 0\n",
    "        curr_std = 0\n",
    "\n",
    "        for j in range(len(points)):\n",
    "            if points_belong_to[j] == i:\n",
    "                dist = ((points[j][0] - centers[i][0])**2 + (points[j][1] - centers[i][1])**2)\n",
    "                curr_std += dist\n",
    "                count += 1\n",
    "\n",
    "        curr_std /= count\n",
    "        std[i] = np.sqrt(curr_std)\n",
    "\n",
    "    return centers,std"
   ]
  },
  {
   "cell_type": "code",
   "execution_count": 13,
   "metadata": {},
   "outputs": [],
   "source": [
    "class RBF(object):\n",
    "    def __init__(self, k=3, lr=0.01, epochs=10000, rbf=rbf, fixed=True):\n",
    "        self.k = k\n",
    "        self.lr = lr\n",
    "        self.epochs = epochs\n",
    "        self.rbf = rbf\n",
    "        self.fixed = fixed\n",
    "        self.w = 2 * np.random.random(k) - 1\n",
    "        self.b = 2 * np.random.randn(1) - 1\n",
    "\n",
    "    def fit(self,X,Y,fixed=False):\n",
    "\n",
    "        if self.fixed == False:\n",
    "            self.centers,self.stds = kmeans(X,self.k)\n",
    "        else:\n",
    "            self.centers,_ = kmeans(X,self.k)\n",
    "            dMax = max([np.sqrt((c1[0] - c2[0])**2 + (c1[1] - c2[1])**2) for c1 in self.centers for c2 in self.centers])\n",
    "            self.stds = np.repeat(dMax / np.sqrt(2*self.k), self.k)    \n",
    "\n",
    "        #training\n",
    "        for epoch in range(self.epochs):\n",
    "            curr = []\n",
    "            for i in range(X.shape[0]):\n",
    "                # forward pass\n",
    "                a = np.array([rbf(X[i], c, s) for c, s, in zip(self.centers, self.stds)])\n",
    "                F = sigmoid(a.T.dot(self.w) + self.b)\n",
    "                loss = (Y[i] - F).flatten() ** 2\n",
    "                #print('Loss: {0:.2f}'.format(loss[0]))\n",
    "                \n",
    "                # backward pass\n",
    "                error = -(Y[i] - F).flatten() * der(F)\n",
    "\n",
    "                # update\n",
    "                self.w = self.w - self.lr * a * error\n",
    "                self.b = self.b - self.lr * error\n",
    "        \n",
    "    def predict(self, X):\n",
    "        y_pred = []\n",
    "        for i in range(X.shape[0]):\n",
    "            a = np.array([rbf(X[i], c, s) for c, s, in zip(self.centers, self.stds)])\n",
    "            F = sigmoid(a.T.dot(self.w) + self.b)\n",
    "            y_pred.append(F)\n",
    "        return np.array(y_pred)"
   ]
  },
  {
   "cell_type": "code",
   "execution_count": 14,
   "metadata": {},
   "outputs": [
    {
     "name": "stdout",
     "output_type": "stream",
     "text": [
      "[[0.11612418]\n",
      " [0.77877404]\n",
      " [0.77924526]\n",
      " [0.35010601]]\n"
     ]
    }
   ],
   "source": [
    "#driver\n",
    "rbfn = RBF()\n",
    "rbfn.fit(input,output)\n",
    "\n",
    "y_predicted = rbfn.predict(input)\n",
    "print(y_predicted)"
   ]
  }
 ],
 "metadata": {
  "interpreter": {
   "hash": "92cc812225b590fcf14c7713270229b83a132cac44fb5700e14abe4bb18f6b0e"
  },
  "kernelspec": {
   "display_name": "Python 3.10.0 64-bit",
   "language": "python",
   "name": "python3"
  },
  "language_info": {
   "codemirror_mode": {
    "name": "ipython",
    "version": 3
   },
   "file_extension": ".py",
   "mimetype": "text/x-python",
   "name": "python",
   "nbconvert_exporter": "python",
   "pygments_lexer": "ipython3",
   "version": "3.10.0"
  },
  "orig_nbformat": 4
 },
 "nbformat": 4,
 "nbformat_minor": 2
}
