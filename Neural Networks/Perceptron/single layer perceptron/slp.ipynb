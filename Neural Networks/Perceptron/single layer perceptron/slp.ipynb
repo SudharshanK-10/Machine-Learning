{
 "cells": [
  {
   "cell_type": "code",
   "execution_count": 47,
   "metadata": {},
   "outputs": [],
   "source": [
    "import numpy as np\n",
    "import random\n",
    "\n",
    "#training input and ouput \n",
    "input = np.array([[0,0],[0,1],[1,0],[1,1]])\n",
    "output = np.array([[0,0,0,1]]).T"
   ]
  },
  {
   "cell_type": "code",
   "execution_count": 48,
   "metadata": {},
   "outputs": [],
   "source": [
    "weights = np.random.random((2,1))\n",
    "bias = random.uniform(0,1)"
   ]
  },
  {
   "cell_type": "code",
   "execution_count": 49,
   "metadata": {},
   "outputs": [],
   "source": [
    "#activation function\n",
    "def sigmoid(x):\n",
    "    return 1 / (1 + np.exp(-x))\n",
    "\n",
    "def der(x):\n",
    "    return sigmoid(x) * (1 - sigmoid(x))"
   ]
  },
  {
   "cell_type": "code",
   "execution_count": 50,
   "metadata": {},
   "outputs": [
    {
     "name": "stdout",
     "output_type": "stream",
     "text": [
      "[[1.17187204e-04]\n",
      " [3.88082874e-02]\n",
      " [3.88082897e-02]\n",
      " [9.32926702e-01]]\n"
     ]
    }
   ],
   "source": [
    "#updating weights\n",
    "final = []\n",
    "for epochs in range(10000):\n",
    "    weighted_sum = np.dot(input,weights) + bias\n",
    "    current_output = sigmoid(weighted_sum)\n",
    "\n",
    "    error = current_output - output\n",
    "    adjust = error * der(current_output)\n",
    "\n",
    "    offset = np.dot(input.T,adjust)\n",
    "\n",
    "    weights = weights - 0.05 * offset\n",
    "    \n",
    "    for i in adjust:\n",
    "        bias = bias - 0.05 * i\n",
    "    \n",
    "    final = current_output\n",
    "\n",
    "print(weights)"
   ]
  },
  {
   "cell_type": "code",
   "execution_count": 51,
   "metadata": {},
   "outputs": [
    {
     "name": "stdout",
     "output_type": "stream",
     "text": [
      "[[0.9329328]]\n"
     ]
    }
   ],
   "source": [
    "#predict\n",
    "pred = np.array([[1,1]])\n",
    "temp = np.dot(pred,weights) + bias\n",
    "print(sigmoid(temp))"
   ]
  }
 ],
 "metadata": {
  "interpreter": {
   "hash": "92cc812225b590fcf14c7713270229b83a132cac44fb5700e14abe4bb18f6b0e"
  },
  "kernelspec": {
   "display_name": "Python 3.10.0 64-bit",
   "language": "python",
   "name": "python3"
  },
  "language_info": {
   "codemirror_mode": {
    "name": "ipython",
    "version": 3
   },
   "file_extension": ".py",
   "mimetype": "text/x-python",
   "name": "python",
   "nbconvert_exporter": "python",
   "pygments_lexer": "ipython3",
   "version": "3.10.0"
  },
  "orig_nbformat": 4
 },
 "nbformat": 4,
 "nbformat_minor": 2
}
