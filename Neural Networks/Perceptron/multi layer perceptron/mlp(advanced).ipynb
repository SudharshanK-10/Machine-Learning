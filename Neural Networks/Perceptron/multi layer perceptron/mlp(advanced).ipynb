{
 "cells": [
  {
   "cell_type": "code",
   "execution_count": 390,
   "metadata": {},
   "outputs": [],
   "source": [
    "import numpy as np\n",
    "import random\n",
    "import pandas as pd"
   ]
  },
  {
   "cell_type": "code",
   "execution_count": 391,
   "metadata": {},
   "outputs": [
    {
     "data": {
      "text/html": [
       "<div>\n",
       "<style scoped>\n",
       "    .dataframe tbody tr th:only-of-type {\n",
       "        vertical-align: middle;\n",
       "    }\n",
       "\n",
       "    .dataframe tbody tr th {\n",
       "        vertical-align: top;\n",
       "    }\n",
       "\n",
       "    .dataframe thead th {\n",
       "        text-align: right;\n",
       "    }\n",
       "</style>\n",
       "<table border=\"1\" class=\"dataframe\">\n",
       "  <thead>\n",
       "    <tr style=\"text-align: right;\">\n",
       "      <th></th>\n",
       "      <th>x</th>\n",
       "      <th>y</th>\n",
       "      <th>output</th>\n",
       "    </tr>\n",
       "  </thead>\n",
       "  <tbody>\n",
       "    <tr>\n",
       "      <th>0</th>\n",
       "      <td>0</td>\n",
       "      <td>0</td>\n",
       "      <td>0</td>\n",
       "    </tr>\n",
       "    <tr>\n",
       "      <th>1</th>\n",
       "      <td>0</td>\n",
       "      <td>1</td>\n",
       "      <td>1</td>\n",
       "    </tr>\n",
       "    <tr>\n",
       "      <th>2</th>\n",
       "      <td>1</td>\n",
       "      <td>0</td>\n",
       "      <td>0</td>\n",
       "    </tr>\n",
       "    <tr>\n",
       "      <th>3</th>\n",
       "      <td>1</td>\n",
       "      <td>1</td>\n",
       "      <td>1</td>\n",
       "    </tr>\n",
       "  </tbody>\n",
       "</table>\n",
       "</div>"
      ],
      "text/plain": [
       "   x  y  output\n",
       "0  0  0       0\n",
       "1  0  1       1\n",
       "2  1  0       0\n",
       "3  1  1       1"
      ]
     },
     "execution_count": 391,
     "metadata": {},
     "output_type": "execute_result"
    }
   ],
   "source": [
    "data = pd.read_csv('dataset.csv')\n",
    "attributes = data.columns\n",
    "data"
   ]
  },
  {
   "cell_type": "code",
   "execution_count": 392,
   "metadata": {},
   "outputs": [
    {
     "data": {
      "text/plain": [
       "array([[0],\n",
       "       [1],\n",
       "       [0],\n",
       "       [1]])"
      ]
     },
     "execution_count": 392,
     "metadata": {},
     "output_type": "execute_result"
    }
   ],
   "source": [
    "temp_input = [[0 for i in range(len(attributes)-1)] for j in range(len(data))]\n",
    "\n",
    "temp1 = data[attributes[-1]].values\n",
    "temp2 = []\n",
    "set = []\n",
    "\n",
    "for e in temp1:\n",
    "    if set.count(e) == 0:\n",
    "        set.append(e)\n",
    "        temp2.append(set.index(e))\n",
    "    else:\n",
    "        temp2.append(set.index(e))\n",
    "\n",
    "output = np.array([temp2]).T\n",
    "\n",
    "for i in range(len(attributes)-1):\n",
    "    for j in range(len(data[attributes[i]].values)):\n",
    "        temp_input[j][i] = data[attributes[i]].values[j]\n",
    "\n",
    "input = np.array(temp_input)\n",
    "output"
   ]
  },
  {
   "cell_type": "code",
   "execution_count": 393,
   "metadata": {},
   "outputs": [],
   "source": [
    "input_layer = 2\n",
    "hidden_layer = 2\n",
    "output_layer = 1\n",
    "learning_rate = 1"
   ]
  },
  {
   "cell_type": "code",
   "execution_count": 394,
   "metadata": {},
   "outputs": [],
   "source": [
    "weights1 = 2 * np.random.random((input_layer,hidden_layer)) - 1\n",
    "bias1 = 2 * np.random.random((1,hidden_layer)) - 1\n",
    "\n",
    "weights2 = 2 * np.random.random((hidden_layer,output_layer)) - 1\n",
    "bias2 = 2 * np.random.random((1,output_layer)) - 1"
   ]
  },
  {
   "cell_type": "code",
   "execution_count": 395,
   "metadata": {},
   "outputs": [],
   "source": [
    "#activation function\n",
    "def sigmoid(x):\n",
    "    return 1 / (1 + np.exp(-x))\n",
    "\n",
    "def der(x):\n",
    "    return sigmoid(x) * (1 - sigmoid(x))"
   ]
  },
  {
   "cell_type": "code",
   "execution_count": 396,
   "metadata": {},
   "outputs": [
    {
     "name": "stdout",
     "output_type": "stream",
     "text": [
      "[[-0.27970082 -0.07996053]\n",
      " [ 3.51554004 -7.27406576]]\n",
      "[[ 3.45330691]\n",
      " [-4.72259082]]\n"
     ]
    }
   ],
   "source": [
    "predicted = []\n",
    "\n",
    "for epochs in range(100):\n",
    "    #forward propagation\n",
    "    weighted_sum1 = np.dot(input,weights1) + bias1\n",
    "    curr_output1 = sigmoid(weighted_sum1)\n",
    "\n",
    "    weighted_sum2 = np.dot(curr_output1,weights2) + bias2\n",
    "    curr_output2 = sigmoid(weighted_sum2)\n",
    "\n",
    "    error2 = output - curr_output2\n",
    "    slope2 = der(curr_output2)\n",
    "    delta2 = -1 / output_layer * error2 * slope2\n",
    "\n",
    "    error1 = np.dot(delta2,weights2.T)\n",
    "    slope1 = der(curr_output1)\n",
    "    delta1 = error1 * slope1\n",
    "\n",
    "    weights2 -= learning_rate * np.dot(curr_output1.T,delta2)\n",
    "    weights1 -= learning_rate * np.dot(input.T,delta1)\n",
    "\n",
    "    bias2 -= learning_rate * np.array([np.sum(delta2,axis=0)])\n",
    "    bias1 -= learning_rate * np.array([np.sum(delta1,axis=0)])\n",
    "\n",
    "    predicted = curr_output2\n",
    "\n",
    "print(weights1)\n",
    "print(weights2)"
   ]
  },
  {
   "cell_type": "code",
   "execution_count": 397,
   "metadata": {},
   "outputs": [
    {
     "name": "stdout",
     "output_type": "stream",
     "text": [
      "[[0.09027394]\n",
      " [0.91102623]\n",
      " [0.08666746]\n",
      " [0.90244467]]\n"
     ]
    }
   ],
   "source": [
    "#predicted \n",
    "print(predicted)"
   ]
  },
  {
   "cell_type": "code",
   "execution_count": 398,
   "metadata": {},
   "outputs": [
    {
     "name": "stdout",
     "output_type": "stream",
     "text": [
      "99.17264983445007\n"
     ]
    }
   ],
   "source": [
    "#accuracy\n",
    "temp = (predicted - output) ** 2\n",
    "acc = 0\n",
    "for i in range(4):\n",
    "    acc += temp[i][0]\n",
    "\n",
    "print((1 - acc/4) * 100)"
   ]
  }
 ],
 "metadata": {
  "interpreter": {
   "hash": "92cc812225b590fcf14c7713270229b83a132cac44fb5700e14abe4bb18f6b0e"
  },
  "kernelspec": {
   "display_name": "Python 3.10.0 64-bit",
   "language": "python",
   "name": "python3"
  },
  "language_info": {
   "codemirror_mode": {
    "name": "ipython",
    "version": 3
   },
   "file_extension": ".py",
   "mimetype": "text/x-python",
   "name": "python",
   "nbconvert_exporter": "python",
   "pygments_lexer": "ipython3",
   "version": "3.10.0"
  },
  "orig_nbformat": 4
 },
 "nbformat": 4,
 "nbformat_minor": 2
}
